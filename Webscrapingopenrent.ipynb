{
  "cells": [
    {
      "cell_type": "code",
      "execution_count": null,
      "metadata": {
        "colab": {
          "base_uri": "https://localhost:8080/"
        },
        "id": "4iidV0zZWMyu",
        "collapsed": true,
        "outputId": "507dbc7a-eab7-47e9-ec99-e8da47c230b2"
      },
      "outputs": [
        {
          "output_type": "stream",
          "name": "stdout",
          "text": [
            "<Response [200]>\n"
          ]
        }
      ],
      "source": [
        "import requests\n",
        "from lxml import html\n",
        "\n",
        "# URL of the webpage\n",
        "url = 'https://www.openrent.co.uk/properties-to-rent/london?viewingProperty'\n",
        "\n",
        "# Fetch the webpage\n",
        "response = requests.get(url)\n",
        "\n",
        "print(response)\n",
        "\n",
        "# Check if request was successful\n",
        "if response.status_code == 200:\n",
        "    # Parse the HTML content\n",
        "    tree = html.fromstring(response.text)\n",
        "\n",
        "    # Use XPath to select elements\n",
        "    elements = tree.xpath('//*[@id=\"__NEXT_DATA__\"]')\n",
        "\n",
        "    # Do something with the selected elements\n",
        "    for element in elements:\n",
        "        print(html.tostring(element))\n",
        "else:\n",
        "    print(f\"Failed to fetch webpage. Status code: {response.status_code}\")\n"
      ]
    },
    {
      "cell_type": "code",
      "execution_count": null,
      "metadata": {
        "colab": {
          "base_uri": "https://localhost:8080/"
        },
        "id": "t0Vzmw0DXBi-",
        "outputId": "de3f097e-2eaf-4343-f010-d4bbfd03ff4f"
      },
      "outputs": [
        {
          "output_type": "stream",
          "name": "stdout",
          "text": [
            "<Response [200]>\n",
            "b'<p class=\"listing-desc\">Amazing 1 bedroom plus study in the centre of London.  Meters away from Trafalgar Square and Charing Cross station.  The pr                            ...</p>'\n",
            "b'<p class=\"listing-desc\">Remarkable property in COVENT GARDEN-HOLBORN. These amazing double rooms for single use are part of a 4 bedroom flat with s                            ...</p>'\n",
            "b'<p class=\"listing-desc\">This light and spacious, 2nd floor Covent Garden apartment is located within a stunning, historic period building, opposite                            ...</p>'\n",
            "b'<p class=\"listing-desc\">We are proud to offer this delightful 1 bedroom, 1 bathroom flat in a great location.  Available to move in from 31 May 202                            ...</p>'\n",
            "b'<p class=\"listing-desc\">Lovely, spacious, newly refurnished, about 750 Sq feet 2 double bedrooms, 3rd and 4th floor duplex flat.   Renovated to hig                            ...</p>'\n",
            "b'<p class=\"listing-desc\">We are proud to offer this delightful room in a 3 bedroom, 3 bathroom shared flat in a great location.  Available to move i                            ...</p>'\n",
            "b'<p class=\"listing-desc\">I bed flat tucked away in Covent Garden.  Newly refurbished throughout with new kitchen, bathroom, flooring, heating and re                            ...</p>'\n",
            "b'<p class=\"listing-desc\">Historic 1720s listed 3 bedroom house in Soho, off Dean Street and moments away from the swanking new Tottenham Court Road                             ...</p>'\n",
            "b'<p class=\"listing-desc\">Live at the heart of iconic South Bank in the stunning landmark Whitehouse Apartments. This well-appointed one-bedroom four                            ...</p>'\n",
            "b'<p class=\"listing-desc\">We are proud to offer this delightful 1 bedroom, 1 bathroom studio flat in a great location. Available to students only.  A                            ...</p>'\n",
            "b'<p class=\"listing-desc\">With lift and balcony .A recently refurbished 2 bedroom 2 bathroom flat with high ceilings, private balcony  within the hea                            ...</p>'\n",
            "b'<p class=\"listing-desc\">South Bank Place Casson Square - Available now  Exquisite one-bedroom apartment featuring floor to ceiling windows, integra                            ...</p>'\n",
            "b'<p class=\"listing-desc\">South Bank Place Casson Square - Available from 22 June 2024   Exquisite one-bedroom apartment featuring floor to ceiling w                            ...</p>'\n",
            "b'<p class=\"listing-desc\">We are proud to offer this delightful 1 bedroom, 1 bathroom flat in County Hall Apartments, located right behind London Eye                            ...</p>'\n",
            "b'<p class=\"listing-desc\">Whitehouse Apartments is a highly sought after residential development on Southbank; adorned in Portland Stone and converte                            ...</p>'\n",
            "b'<p class=\"listing-desc\">Stunning 2 bedroom apartment available on the 4th floor of Casson Square. Furnished.   The open plan reception and kitchen                             ...</p>'\n",
            "b'<p class=\"listing-desc\">Spacious Two-Room, 2 bath flat for Rent in Modern London Apartment (Next to the London Eye, opposite Houses of Parliament)                             ...</p>'\n",
            "b'<p class=\"listing-desc\">A Superb modern and spacious 2 bed duplex apartment situated on Tottenham Court Road boasting stunning views across London                             ...</p>'\n",
            "b'<p class=\"listing-desc\">2 BEDROOM Fully Furnished flat available for JULY and AUGUST while owner works away. Hoping / planning to then LONG LET it                             ...</p>'\n",
            "b'<p class=\"listing-desc\">A well-presented, spacious, and recently refurbished one bedroom property on the fourth floor (with lift) of the sought aft                            ...</p>'\n"
          ]
        }
      ],
      "source": [
        "\n",
        "import requests\n",
        "from lxml import html\n",
        "\n",
        "# URL of the webpage\n",
        "url = 'https://www.openrent.co.uk/properties-to-rent/london?viewingProperty'\n",
        "\n",
        "# Fetch the webpage\n",
        "response = requests.get(url)\n",
        "\n",
        "print(response)\n",
        "\n",
        "# Check if request was successful\n",
        "if response.status_code == 200:\n",
        "    # Parse the HTML content\n",
        "    tree = html.fromstring(response.text)\n",
        "\n",
        "    # Use XPath to select elements\n",
        "    elements = tree.xpath('//*[@class=\"listing-desc\"]')\n",
        "\n",
        "    # Do something with the selected elements\n",
        "    for element in elements:\n",
        "        print(html.tostring(element))\n",
        "else:\n",
        "    print(f\"Failed to fetch webpage. Status code: {response.status_code}\")\n"
      ]
    }
  ],
  "metadata": {
    "colab": {
      "provenance": []
    },
    "kernelspec": {
      "display_name": "Python 3",
      "name": "python3"
    },
    "language_info": {
      "name": "python"
    }
  },
  "nbformat": 4,
  "nbformat_minor": 0
}